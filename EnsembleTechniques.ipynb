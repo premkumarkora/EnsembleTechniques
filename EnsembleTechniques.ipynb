{
  "nbformat": 4,
  "nbformat_minor": 0,
  "metadata": {
    "colab": {
      "provenance": [],
      "include_colab_link": true
    },
    "kernelspec": {
      "name": "python3",
      "display_name": "Python 3"
    },
    "language_info": {
      "name": "python"
    }
  },
  "cells": [
    {
      "cell_type": "markdown",
      "metadata": {
        "id": "view-in-github",
        "colab_type": "text"
      },
      "source": [
        "<a href=\"https://colab.research.google.com/github/premkumarkora/EnsembleTechniques/blob/main/EnsembleTechniques.ipynb\" target=\"_parent\"><img src=\"https://colab.research.google.com/assets/colab-badge.svg\" alt=\"Open In Colab\"/></a>"
      ]
    },
    {
      "cell_type": "markdown",
      "metadata": {
        "id": "03lbhw76NWlL"
      },
      "source": [
        "## **Ensemble Technqiues**"
      ]
    },
    {
      "cell_type": "markdown",
      "metadata": {
        "id": "jucpVMWMZrCW"
      },
      "source": [
        "# Data"
      ]
    },
    {
      "cell_type": "code",
      "metadata": {
        "id": "TtSHXQ1wZr8W",
        "colab": {
          "base_uri": "https://localhost:8080/"
        },
        "outputId": "13d1b29b-d558-4726-8845-272afb1911a4"
      },
      "source": [
        "#importing important packages\n",
        "import pandas as pd\n",
        "import numpy as np\n",
        "\n",
        "#reading the dataset\n",
        "df=pd.read_csv(\"train.csv\")\n",
        "df\n",
        "df.shape\n",
        "df.isnull().sum()\n",
        "# # # # # # # # # #filling missing values\n",
        "df.Gender.value_counts()\n",
        "df['Gender'].fillna('Male', inplace=True)\n",
        "# # # df.isnull().sum()\n",
        "df.Married.value_counts()\n",
        "df['Married'].fillna('Yes', inplace=True)\n",
        "df.isnull().sum()\n",
        "df.Dependents.value_counts()\n",
        "df['Dependents'].fillna('0', inplace=True)\n",
        "# # # df.isnull().sum()\n",
        "df.Self_Employed.value_counts()\n",
        "df['Self_Employed'].fillna('No', inplace=True)\n",
        "df.isnull().sum()\n",
        "df = df.fillna(df.median())\n",
        "df.isnull().sum()\n",
        "# # # # df = df.dropna()\n",
        "# # # # df"
      ],
      "execution_count": null,
      "outputs": [
        {
          "output_type": "stream",
          "name": "stderr",
          "text": [
            "/usr/local/lib/python3.7/dist-packages/ipykernel_launcher.py:23: FutureWarning: Dropping of nuisance columns in DataFrame reductions (with 'numeric_only=None') is deprecated; in a future version this will raise TypeError.  Select only valid columns before calling the reduction.\n"
          ]
        },
        {
          "output_type": "execute_result",
          "data": {
            "text/plain": [
              "Loan_ID              0\n",
              "Gender               0\n",
              "Married              0\n",
              "Dependents           0\n",
              "Education            0\n",
              "Self_Employed        0\n",
              "ApplicantIncome      0\n",
              "CoapplicantIncome    0\n",
              "LoanAmount           0\n",
              "Loan_Amount_Term     0\n",
              "Credit_History       0\n",
              "Property_Area        0\n",
              "Loan_Status          0\n",
              "dtype: int64"
            ]
          },
          "metadata": {},
          "execution_count": 3
        }
      ]
    },
    {
      "cell_type": "code",
      "source": [
        "df.dtypes"
      ],
      "metadata": {
        "colab": {
          "base_uri": "https://localhost:8080/"
        },
        "id": "4ISupvz6oxYQ",
        "outputId": "948b0553-8d75-4db5-e5ed-0c7f2c6c1af5"
      },
      "execution_count": null,
      "outputs": [
        {
          "output_type": "execute_result",
          "data": {
            "text/plain": [
              "Loan_ID               object\n",
              "Gender                object\n",
              "Married               object\n",
              "Dependents            object\n",
              "Education             object\n",
              "Self_Employed         object\n",
              "ApplicantIncome        int64\n",
              "CoapplicantIncome    float64\n",
              "LoanAmount           float64\n",
              "Loan_Amount_Term     float64\n",
              "Credit_History       float64\n",
              "Property_Area         object\n",
              "Loan_Status           object\n",
              "dtype: object"
            ]
          },
          "metadata": {},
          "execution_count": 4
        }
      ]
    },
    {
      "cell_type": "code",
      "source": [
        "df['Credit_History'] = df['Credit_History'].astype('int')"
      ],
      "metadata": {
        "id": "kcr3VBUCAviE"
      },
      "execution_count": null,
      "outputs": []
    },
    {
      "cell_type": "code",
      "source": [
        "df = df.drop_duplicates()"
      ],
      "metadata": {
        "id": "BGBhNlq7BLey"
      },
      "execution_count": null,
      "outputs": []
    },
    {
      "cell_type": "code",
      "source": [
        "df['Loan_Status'].unique()"
      ],
      "metadata": {
        "colab": {
          "base_uri": "https://localhost:8080/"
        },
        "id": "vpBFC5lDBsSB",
        "outputId": "5e7a53f0-eb48-46b9-d10c-a0e6584a50e4"
      },
      "execution_count": null,
      "outputs": [
        {
          "output_type": "execute_result",
          "data": {
            "text/plain": [
              "array(['Y', 'N'], dtype=object)"
            ]
          },
          "metadata": {},
          "execution_count": 7
        }
      ]
    },
    {
      "cell_type": "code",
      "source": [
        "df['Loan_Status'].value_counts()"
      ],
      "metadata": {
        "colab": {
          "base_uri": "https://localhost:8080/"
        },
        "id": "vDblQuMFrhHN",
        "outputId": "511ef52e-e42d-43c9-a0b5-42295e7a4cf4"
      },
      "execution_count": null,
      "outputs": [
        {
          "output_type": "execute_result",
          "data": {
            "text/plain": [
              "Y    422\n",
              "N    192\n",
              "Name: Loan_Status, dtype: int64"
            ]
          },
          "metadata": {},
          "execution_count": 8
        }
      ]
    },
    {
      "cell_type": "code",
      "metadata": {
        "id": "3u_qacP7Z1KI"
      },
      "source": [
        "#split dataset into train and test\n",
        "\n",
        "from sklearn.model_selection import train_test_split\n",
        "from sklearn.preprocessing import LabelEncoder\n",
        "\n",
        "del df['Loan_ID']\n",
        "#Both Label and One-hot encoding is performed\n",
        "dfT = df #encode the data - one hot encoding is done\n",
        "\n",
        "dfT[\"Gender\"] = dfT[\"Gender\"].map({\"Male\" : 0, \"Female\" : 1})\n",
        "dfT[\"Married\"] = dfT[\"Married\"].map({\"Yes\" : 1, \"No\" : 0})\n",
        "dfT[\"Dependents\"] = dfT[\"Dependents\"].map({\"0\" : 0, \"1\" : 1,\"2\" : 2,\"3+\" : 3})\n",
        "dfT[\"Education\"] = dfT[\"Education\"].map({\"Graduate\" : 1, \"Not Graduate\" : 0})\n",
        "dfT[\"Self_Employed\"] = dfT[\"Self_Employed\"].map({\"Yes\" : 1, \"No\" : 0})\n",
        "dfT = pd.get_dummies(dfT,columns = [\"Property_Area\"]) #one hot encoding\n",
        "dfT[\"Loan_Status\"] = dfT[\"Loan_Status\"].map({\"Y\" : 1, \"N\" : 0})\n",
        "\n",
        "#Split my data\n",
        "x_train, x_test, y_train, y_test = train_test_split(dfT[dfT.columns[:-1]].values, dfT['Loan_Status'].values, test_size=0.25)\n",
        "\n"
      ],
      "execution_count": null,
      "outputs": []
    },
    {
      "cell_type": "code",
      "source": [
        "dfT"
      ],
      "metadata": {
        "colab": {
          "base_uri": "https://localhost:8080/",
          "height": 487
        },
        "id": "pJxhoA23CpqC",
        "outputId": "63b13fab-2715-4b12-c4d3-01ea736ff7df"
      },
      "execution_count": null,
      "outputs": [
        {
          "output_type": "execute_result",
          "data": {
            "text/plain": [
              "     Gender  Married  Dependents  Education  Self_Employed  ApplicantIncome  \\\n",
              "0         0        0           0          1              0             5849   \n",
              "1         0        1           1          1              0             4583   \n",
              "2         0        1           0          1              1             3000   \n",
              "3         0        1           0          0              0             2583   \n",
              "4         0        0           0          1              0             6000   \n",
              "..      ...      ...         ...        ...            ...              ...   \n",
              "609       1        0           0          1              0             2900   \n",
              "610       0        1           3          1              0             4106   \n",
              "611       0        1           1          1              0             8072   \n",
              "612       0        1           2          1              0             7583   \n",
              "613       1        0           0          1              1             4583   \n",
              "\n",
              "     CoapplicantIncome  LoanAmount  Loan_Amount_Term  Credit_History  \\\n",
              "0                  0.0       128.0             360.0               1   \n",
              "1               1508.0       128.0             360.0               1   \n",
              "2                  0.0        66.0             360.0               1   \n",
              "3               2358.0       120.0             360.0               1   \n",
              "4                  0.0       141.0             360.0               1   \n",
              "..                 ...         ...               ...             ...   \n",
              "609                0.0        71.0             360.0               1   \n",
              "610                0.0        40.0             180.0               1   \n",
              "611              240.0       253.0             360.0               1   \n",
              "612                0.0       187.0             360.0               1   \n",
              "613                0.0       133.0             360.0               0   \n",
              "\n",
              "     Loan_Status  Property_Area_Rural  Property_Area_Semiurban  \\\n",
              "0              1                    0                        0   \n",
              "1              0                    1                        0   \n",
              "2              1                    0                        0   \n",
              "3              1                    0                        0   \n",
              "4              1                    0                        0   \n",
              "..           ...                  ...                      ...   \n",
              "609            1                    1                        0   \n",
              "610            1                    1                        0   \n",
              "611            1                    0                        0   \n",
              "612            1                    0                        0   \n",
              "613            0                    0                        1   \n",
              "\n",
              "     Property_Area_Urban  \n",
              "0                      1  \n",
              "1                      0  \n",
              "2                      1  \n",
              "3                      1  \n",
              "4                      1  \n",
              "..                   ...  \n",
              "609                    0  \n",
              "610                    0  \n",
              "611                    1  \n",
              "612                    1  \n",
              "613                    0  \n",
              "\n",
              "[614 rows x 14 columns]"
            ],
            "text/html": [
              "\n",
              "  <div id=\"df-ba869344-bdbd-42f4-9d89-f8bff6f15447\">\n",
              "    <div class=\"colab-df-container\">\n",
              "      <div>\n",
              "<style scoped>\n",
              "    .dataframe tbody tr th:only-of-type {\n",
              "        vertical-align: middle;\n",
              "    }\n",
              "\n",
              "    .dataframe tbody tr th {\n",
              "        vertical-align: top;\n",
              "    }\n",
              "\n",
              "    .dataframe thead th {\n",
              "        text-align: right;\n",
              "    }\n",
              "</style>\n",
              "<table border=\"1\" class=\"dataframe\">\n",
              "  <thead>\n",
              "    <tr style=\"text-align: right;\">\n",
              "      <th></th>\n",
              "      <th>Gender</th>\n",
              "      <th>Married</th>\n",
              "      <th>Dependents</th>\n",
              "      <th>Education</th>\n",
              "      <th>Self_Employed</th>\n",
              "      <th>ApplicantIncome</th>\n",
              "      <th>CoapplicantIncome</th>\n",
              "      <th>LoanAmount</th>\n",
              "      <th>Loan_Amount_Term</th>\n",
              "      <th>Credit_History</th>\n",
              "      <th>Loan_Status</th>\n",
              "      <th>Property_Area_Rural</th>\n",
              "      <th>Property_Area_Semiurban</th>\n",
              "      <th>Property_Area_Urban</th>\n",
              "    </tr>\n",
              "  </thead>\n",
              "  <tbody>\n",
              "    <tr>\n",
              "      <th>0</th>\n",
              "      <td>0</td>\n",
              "      <td>0</td>\n",
              "      <td>0</td>\n",
              "      <td>1</td>\n",
              "      <td>0</td>\n",
              "      <td>5849</td>\n",
              "      <td>0.0</td>\n",
              "      <td>128.0</td>\n",
              "      <td>360.0</td>\n",
              "      <td>1</td>\n",
              "      <td>1</td>\n",
              "      <td>0</td>\n",
              "      <td>0</td>\n",
              "      <td>1</td>\n",
              "    </tr>\n",
              "    <tr>\n",
              "      <th>1</th>\n",
              "      <td>0</td>\n",
              "      <td>1</td>\n",
              "      <td>1</td>\n",
              "      <td>1</td>\n",
              "      <td>0</td>\n",
              "      <td>4583</td>\n",
              "      <td>1508.0</td>\n",
              "      <td>128.0</td>\n",
              "      <td>360.0</td>\n",
              "      <td>1</td>\n",
              "      <td>0</td>\n",
              "      <td>1</td>\n",
              "      <td>0</td>\n",
              "      <td>0</td>\n",
              "    </tr>\n",
              "    <tr>\n",
              "      <th>2</th>\n",
              "      <td>0</td>\n",
              "      <td>1</td>\n",
              "      <td>0</td>\n",
              "      <td>1</td>\n",
              "      <td>1</td>\n",
              "      <td>3000</td>\n",
              "      <td>0.0</td>\n",
              "      <td>66.0</td>\n",
              "      <td>360.0</td>\n",
              "      <td>1</td>\n",
              "      <td>1</td>\n",
              "      <td>0</td>\n",
              "      <td>0</td>\n",
              "      <td>1</td>\n",
              "    </tr>\n",
              "    <tr>\n",
              "      <th>3</th>\n",
              "      <td>0</td>\n",
              "      <td>1</td>\n",
              "      <td>0</td>\n",
              "      <td>0</td>\n",
              "      <td>0</td>\n",
              "      <td>2583</td>\n",
              "      <td>2358.0</td>\n",
              "      <td>120.0</td>\n",
              "      <td>360.0</td>\n",
              "      <td>1</td>\n",
              "      <td>1</td>\n",
              "      <td>0</td>\n",
              "      <td>0</td>\n",
              "      <td>1</td>\n",
              "    </tr>\n",
              "    <tr>\n",
              "      <th>4</th>\n",
              "      <td>0</td>\n",
              "      <td>0</td>\n",
              "      <td>0</td>\n",
              "      <td>1</td>\n",
              "      <td>0</td>\n",
              "      <td>6000</td>\n",
              "      <td>0.0</td>\n",
              "      <td>141.0</td>\n",
              "      <td>360.0</td>\n",
              "      <td>1</td>\n",
              "      <td>1</td>\n",
              "      <td>0</td>\n",
              "      <td>0</td>\n",
              "      <td>1</td>\n",
              "    </tr>\n",
              "    <tr>\n",
              "      <th>...</th>\n",
              "      <td>...</td>\n",
              "      <td>...</td>\n",
              "      <td>...</td>\n",
              "      <td>...</td>\n",
              "      <td>...</td>\n",
              "      <td>...</td>\n",
              "      <td>...</td>\n",
              "      <td>...</td>\n",
              "      <td>...</td>\n",
              "      <td>...</td>\n",
              "      <td>...</td>\n",
              "      <td>...</td>\n",
              "      <td>...</td>\n",
              "      <td>...</td>\n",
              "    </tr>\n",
              "    <tr>\n",
              "      <th>609</th>\n",
              "      <td>1</td>\n",
              "      <td>0</td>\n",
              "      <td>0</td>\n",
              "      <td>1</td>\n",
              "      <td>0</td>\n",
              "      <td>2900</td>\n",
              "      <td>0.0</td>\n",
              "      <td>71.0</td>\n",
              "      <td>360.0</td>\n",
              "      <td>1</td>\n",
              "      <td>1</td>\n",
              "      <td>1</td>\n",
              "      <td>0</td>\n",
              "      <td>0</td>\n",
              "    </tr>\n",
              "    <tr>\n",
              "      <th>610</th>\n",
              "      <td>0</td>\n",
              "      <td>1</td>\n",
              "      <td>3</td>\n",
              "      <td>1</td>\n",
              "      <td>0</td>\n",
              "      <td>4106</td>\n",
              "      <td>0.0</td>\n",
              "      <td>40.0</td>\n",
              "      <td>180.0</td>\n",
              "      <td>1</td>\n",
              "      <td>1</td>\n",
              "      <td>1</td>\n",
              "      <td>0</td>\n",
              "      <td>0</td>\n",
              "    </tr>\n",
              "    <tr>\n",
              "      <th>611</th>\n",
              "      <td>0</td>\n",
              "      <td>1</td>\n",
              "      <td>1</td>\n",
              "      <td>1</td>\n",
              "      <td>0</td>\n",
              "      <td>8072</td>\n",
              "      <td>240.0</td>\n",
              "      <td>253.0</td>\n",
              "      <td>360.0</td>\n",
              "      <td>1</td>\n",
              "      <td>1</td>\n",
              "      <td>0</td>\n",
              "      <td>0</td>\n",
              "      <td>1</td>\n",
              "    </tr>\n",
              "    <tr>\n",
              "      <th>612</th>\n",
              "      <td>0</td>\n",
              "      <td>1</td>\n",
              "      <td>2</td>\n",
              "      <td>1</td>\n",
              "      <td>0</td>\n",
              "      <td>7583</td>\n",
              "      <td>0.0</td>\n",
              "      <td>187.0</td>\n",
              "      <td>360.0</td>\n",
              "      <td>1</td>\n",
              "      <td>1</td>\n",
              "      <td>0</td>\n",
              "      <td>0</td>\n",
              "      <td>1</td>\n",
              "    </tr>\n",
              "    <tr>\n",
              "      <th>613</th>\n",
              "      <td>1</td>\n",
              "      <td>0</td>\n",
              "      <td>0</td>\n",
              "      <td>1</td>\n",
              "      <td>1</td>\n",
              "      <td>4583</td>\n",
              "      <td>0.0</td>\n",
              "      <td>133.0</td>\n",
              "      <td>360.0</td>\n",
              "      <td>0</td>\n",
              "      <td>0</td>\n",
              "      <td>0</td>\n",
              "      <td>1</td>\n",
              "      <td>0</td>\n",
              "    </tr>\n",
              "  </tbody>\n",
              "</table>\n",
              "<p>614 rows × 14 columns</p>\n",
              "</div>\n",
              "      <button class=\"colab-df-convert\" onclick=\"convertToInteractive('df-ba869344-bdbd-42f4-9d89-f8bff6f15447')\"\n",
              "              title=\"Convert this dataframe to an interactive table.\"\n",
              "              style=\"display:none;\">\n",
              "        \n",
              "  <svg xmlns=\"http://www.w3.org/2000/svg\" height=\"24px\"viewBox=\"0 0 24 24\"\n",
              "       width=\"24px\">\n",
              "    <path d=\"M0 0h24v24H0V0z\" fill=\"none\"/>\n",
              "    <path d=\"M18.56 5.44l.94 2.06.94-2.06 2.06-.94-2.06-.94-.94-2.06-.94 2.06-2.06.94zm-11 1L8.5 8.5l.94-2.06 2.06-.94-2.06-.94L8.5 2.5l-.94 2.06-2.06.94zm10 10l.94 2.06.94-2.06 2.06-.94-2.06-.94-.94-2.06-.94 2.06-2.06.94z\"/><path d=\"M17.41 7.96l-1.37-1.37c-.4-.4-.92-.59-1.43-.59-.52 0-1.04.2-1.43.59L10.3 9.45l-7.72 7.72c-.78.78-.78 2.05 0 2.83L4 21.41c.39.39.9.59 1.41.59.51 0 1.02-.2 1.41-.59l7.78-7.78 2.81-2.81c.8-.78.8-2.07 0-2.86zM5.41 20L4 18.59l7.72-7.72 1.47 1.35L5.41 20z\"/>\n",
              "  </svg>\n",
              "      </button>\n",
              "      \n",
              "  <style>\n",
              "    .colab-df-container {\n",
              "      display:flex;\n",
              "      flex-wrap:wrap;\n",
              "      gap: 12px;\n",
              "    }\n",
              "\n",
              "    .colab-df-convert {\n",
              "      background-color: #E8F0FE;\n",
              "      border: none;\n",
              "      border-radius: 50%;\n",
              "      cursor: pointer;\n",
              "      display: none;\n",
              "      fill: #1967D2;\n",
              "      height: 32px;\n",
              "      padding: 0 0 0 0;\n",
              "      width: 32px;\n",
              "    }\n",
              "\n",
              "    .colab-df-convert:hover {\n",
              "      background-color: #E2EBFA;\n",
              "      box-shadow: 0px 1px 2px rgba(60, 64, 67, 0.3), 0px 1px 3px 1px rgba(60, 64, 67, 0.15);\n",
              "      fill: #174EA6;\n",
              "    }\n",
              "\n",
              "    [theme=dark] .colab-df-convert {\n",
              "      background-color: #3B4455;\n",
              "      fill: #D2E3FC;\n",
              "    }\n",
              "\n",
              "    [theme=dark] .colab-df-convert:hover {\n",
              "      background-color: #434B5C;\n",
              "      box-shadow: 0px 1px 3px 1px rgba(0, 0, 0, 0.15);\n",
              "      filter: drop-shadow(0px 1px 2px rgba(0, 0, 0, 0.3));\n",
              "      fill: #FFFFFF;\n",
              "    }\n",
              "  </style>\n",
              "\n",
              "      <script>\n",
              "        const buttonEl =\n",
              "          document.querySelector('#df-ba869344-bdbd-42f4-9d89-f8bff6f15447 button.colab-df-convert');\n",
              "        buttonEl.style.display =\n",
              "          google.colab.kernel.accessAllowed ? 'block' : 'none';\n",
              "\n",
              "        async function convertToInteractive(key) {\n",
              "          const element = document.querySelector('#df-ba869344-bdbd-42f4-9d89-f8bff6f15447');\n",
              "          const dataTable =\n",
              "            await google.colab.kernel.invokeFunction('convertToInteractive',\n",
              "                                                     [key], {});\n",
              "          if (!dataTable) return;\n",
              "\n",
              "          const docLinkHtml = 'Like what you see? Visit the ' +\n",
              "            '<a target=\"_blank\" href=https://colab.research.google.com/notebooks/data_table.ipynb>data table notebook</a>'\n",
              "            + ' to learn more about interactive tables.';\n",
              "          element.innerHTML = '';\n",
              "          dataTable['output_type'] = 'display_data';\n",
              "          await google.colab.output.renderOutput(dataTable, element);\n",
              "          const docLink = document.createElement('div');\n",
              "          docLink.innerHTML = docLinkHtml;\n",
              "          element.appendChild(docLink);\n",
              "        }\n",
              "      </script>\n",
              "    </div>\n",
              "  </div>\n",
              "  "
            ]
          },
          "metadata": {},
          "execution_count": 9
        }
      ]
    },
    {
      "cell_type": "code",
      "source": [
        "x_train"
      ],
      "metadata": {
        "colab": {
          "base_uri": "https://localhost:8080/"
        },
        "id": "7WJmTUYPCm2d",
        "outputId": "40267649-c99b-400c-9a94-9353c213e9a8"
      },
      "execution_count": null,
      "outputs": [
        {
          "output_type": "execute_result",
          "data": {
            "text/plain": [
              "array([[0., 0., 0., ..., 1., 1., 0.],\n",
              "       [1., 0., 0., ..., 1., 0., 1.],\n",
              "       [1., 0., 0., ..., 1., 0., 0.],\n",
              "       ...,\n",
              "       [0., 1., 0., ..., 0., 1., 0.],\n",
              "       [0., 1., 0., ..., 1., 0., 0.],\n",
              "       [0., 0., 0., ..., 0., 1., 0.]])"
            ]
          },
          "metadata": {},
          "execution_count": 10
        }
      ]
    },
    {
      "cell_type": "markdown",
      "metadata": {
        "id": "ac4vb2y_myQy"
      },
      "source": []
    },
    {
      "cell_type": "code",
      "metadata": {
        "id": "9Cb_8C3gaSW2",
        "colab": {
          "base_uri": "https://localhost:8080/"
        },
        "outputId": "81d62552-2a2f-4204-e85b-1a3a6ca566b6"
      },
      "source": [
        "x_train.shape, x_test.shape"
      ],
      "execution_count": null,
      "outputs": [
        {
          "output_type": "execute_result",
          "data": {
            "text/plain": [
              "((460, 13), (154, 13))"
            ]
          },
          "metadata": {},
          "execution_count": 11
        }
      ]
    },
    {
      "cell_type": "code",
      "source": [
        "from sklearn.preprocessing import StandardScaler\n",
        "\n",
        "std = StandardScaler()\n",
        "x_train = std.fit_transform(x_train)\n",
        "x_test = std.transform(x_test)"
      ],
      "metadata": {
        "id": "wiDJ9OdeZq3i"
      },
      "execution_count": null,
      "outputs": []
    },
    {
      "cell_type": "markdown",
      "metadata": {
        "id": "ZOwEsLjuO8L8"
      },
      "source": [
        "# Max Voting"
      ]
    },
    {
      "cell_type": "markdown",
      "metadata": {
        "id": "MGXJUGUCOViz"
      },
      "source": [
        "Alternatively, you can use “VotingClassifier” module in sklearn as follows:"
      ]
    },
    {
      "cell_type": "code",
      "metadata": {
        "id": "Xl6DolVOOVwz",
        "colab": {
          "base_uri": "https://localhost:8080/"
        },
        "outputId": "a0e0e064-cd70-4068-f930-a37a7dd422fb"
      },
      "source": [
        "from sklearn.ensemble import VotingClassifier # this is the function that ensembles my model\n",
        "from sklearn.linear_model import LogisticRegression\n",
        "from sklearn import tree\n",
        "from sklearn.neighbors import KNeighborsClassifier\n",
        "from sklearn.metrics import roc_auc_score\n",
        "\n",
        "model1 = LogisticRegression(random_state=1)\n",
        "model2 = tree.DecisionTreeClassifier(random_state=1)\n",
        "model3 = KNeighborsClassifier(3)\n",
        "model = VotingClassifier(estimators=[('lr', model1), ('dt', model2),('knn',model3)], voting='soft') # it will stitich all the models together, voting = hard means max voting\n",
        "# we need to give the list of models that we are trying to combine\n",
        "model.fit(x_train,y_train) # to train all of the models\n",
        "preds = model.predict(x_test)\n",
        "model.score(x_test,y_test) # prediction\n",
        "roc_auc_score(y_test,model.predict_proba(x_test)[:,1])"
      ],
      "execution_count": null,
      "outputs": [
        {
          "output_type": "execute_result",
          "data": {
            "text/plain": [
              "1.0"
            ]
          },
          "metadata": {},
          "execution_count": 12
        }
      ]
    },
    {
      "cell_type": "code",
      "source": [
        "model3 = KNeighborsClassifier(3)\n",
        "model3.fit(x_train,y_train)\n",
        "roc_auc_score(y_test,model3.predict_proba(x_test)[:,1])"
      ],
      "metadata": {
        "colab": {
          "base_uri": "https://localhost:8080/"
        },
        "id": "QgQqmQzJt7z2",
        "outputId": "49e21fdc-1cbf-42fa-d4a6-f831be4e9a9d"
      },
      "execution_count": null,
      "outputs": [
        {
          "output_type": "execute_result",
          "data": {
            "text/plain": [
              "0.9787190082644628"
            ]
          },
          "metadata": {},
          "execution_count": 22
        }
      ]
    },
    {
      "cell_type": "markdown",
      "metadata": {
        "id": "DN3oT9oqP-MM"
      },
      "source": [
        "# **Advanced Ensemble techniques**"
      ]
    },
    {
      "cell_type": "markdown",
      "metadata": {
        "id": "I3h9X-JDd0vO"
      },
      "source": [
        "# **Bagging** (Bootstrap aggregation)"
      ]
    },
    {
      "cell_type": "code",
      "metadata": {
        "id": "mH9evpFKd15S",
        "colab": {
          "base_uri": "https://localhost:8080/"
        },
        "outputId": "bd059f80-4a24-4317-c710-3349afe3d5cb"
      },
      "source": [
        "from sklearn.ensemble import BaggingClassifier\n",
        "from sklearn import tree\n",
        "# weakLearner = tree.DecisionTreeClassifier(max_depth = 1)\n",
        "# weakLearner.fit(x_train, y_train)\n",
        "# weakLearner.score(x_test,y_test)\n",
        "model = BaggingClassifier(tree.DecisionTreeClassifier(max_depth = 1, random_state=1), n_estimators=100)\n",
        "model.fit(x_train, y_train)\n",
        "model.score(x_test,y_test)"
      ],
      "execution_count": null,
      "outputs": [
        {
          "output_type": "execute_result",
          "data": {
            "text/plain": [
              "1.0"
            ]
          },
          "metadata": {},
          "execution_count": 15
        }
      ]
    },
    {
      "cell_type": "markdown",
      "metadata": {
        "id": "9n7miqMvhIA9"
      },
      "source": [
        "# **Random Forests**"
      ]
    },
    {
      "cell_type": "code",
      "metadata": {
        "colab": {
          "base_uri": "https://localhost:8080/",
          "height": 477
        },
        "id": "UFbqvDeyhHgT",
        "outputId": "4ba2a9b4-ff56-42de-bfc9-a0c05b07054b"
      },
      "source": [
        "# Pandas is used for data manipulation\n",
        "import pandas as pd\n",
        "import numpy as np\n",
        "from sklearn.model_selection import train_test_split\n",
        "\n",
        "# Read in data as pandas dataframe and display first 5 rows\n",
        "original_features = pd.read_csv('temps.csv') #\n",
        "print(original_features.columns)\n",
        "original_features\n",
        "\n",
        "original_features.isnull().sum()\n",
        "original_features = original_features.drop_duplicates()\n",
        "original_features.dtypes\n",
        "# # To check all the problem with data\n",
        "# ## original_features\n",
        "\n",
        "# # original_features[]\n",
        "# #\n",
        "# # from sklearn.preprocessing import LabelEncoder\n",
        "\n",
        "# # # lb = LabelEncoder()\n",
        "# # # lb.fit_transform(original_features.week)\n",
        "\n",
        "\n",
        "original_features.week = original_features.week.map({'Sun':1,'Mon':2,'Tues':3,'Wed':4,'Thurs':5,'Fri':6,'Sat':7})\n",
        "# # # # # # original_features\n",
        "# # # # # # Use numpy to convert to arrays\n",
        "# # # # import numpy as np\n",
        "\n",
        "# # # # Labels are the values we want to predict\n",
        "original_labels = np.array(original_features['actual']) # target varaibles\n",
        "\n",
        "# # Remove the labels from the features\n",
        "# # axis 1 refers to the columns\n",
        "original_features= original_features.drop('friend', axis = 1)\n",
        "original_features= original_features.drop('actual', axis = 1) #original features\n",
        "\n",
        "# # Saving feature names for later use\n",
        "original_feature_list = list(original_features.columns) #orginal feature labels\n",
        "\n",
        "# # Convert to numpy array\n",
        "# original_features = np.array(original_features)\n",
        "# original_features\n",
        "\n",
        "# # Using Skicit-learn to split data into training and testing sets\n",
        "# from sklearn.model_selection import train_test_split\n",
        "\n",
        "# # Split the data into training and testing sets\n",
        "original_train_features, original_test_features, original_train_labels, original_test_labels = train_test_split(original_features, original_labels, test_size = 0.25, random_state = 42)\n",
        "\n",
        "# # # # The baseline predictions are the historical averages\n",
        "# # # baseline_preds = original_test_features[:, original_feature_list.index('average')]\n",
        "\n",
        "# # # # Baseline errors, and display average baseline error\n",
        "# # # baseline_errors = abs(baseline_preds - original_test_labels)\n",
        "# # # print('Average baseline error: ', round(np.mean(baseline_errors), 2), 'degrees.')"
      ],
      "execution_count": null,
      "outputs": [
        {
          "output_type": "stream",
          "name": "stdout",
          "text": [
            "Index(['year', 'month', 'day', 'week', 'temp_2', 'temp_1', 'average', 'actual',\n",
            "       'friend'],\n",
            "      dtype='object')\n"
          ]
        },
        {
          "output_type": "execute_result",
          "data": {
            "text/plain": [
              "     year  month  day   week  temp_2  temp_1  average  actual  friend\n",
              "0    2016      1    1    Fri      45      45     45.6      45      29\n",
              "1    2016      1    2    Sat      44      45     45.7      44      61\n",
              "2    2016      1    3    Sun      45      44     45.8      41      56\n",
              "3    2016      1    4    Mon      44      41     45.9      40      53\n",
              "4    2016      1    5   Tues      41      40     46.0      44      41\n",
              "..    ...    ...  ...    ...     ...     ...      ...     ...     ...\n",
              "343  2016     12   27   Tues      42      42     45.2      47      47\n",
              "344  2016     12   28    Wed      42      47     45.3      48      58\n",
              "345  2016     12   29  Thurs      47      48     45.3      48      65\n",
              "346  2016     12   30    Fri      48      48     45.4      57      42\n",
              "347  2016     12   31    Sat      48      57     45.5      40      57\n",
              "\n",
              "[348 rows x 9 columns]"
            ],
            "text/html": [
              "\n",
              "  <div id=\"df-30b5fb58-53fd-456f-ab20-22af86633c29\">\n",
              "    <div class=\"colab-df-container\">\n",
              "      <div>\n",
              "<style scoped>\n",
              "    .dataframe tbody tr th:only-of-type {\n",
              "        vertical-align: middle;\n",
              "    }\n",
              "\n",
              "    .dataframe tbody tr th {\n",
              "        vertical-align: top;\n",
              "    }\n",
              "\n",
              "    .dataframe thead th {\n",
              "        text-align: right;\n",
              "    }\n",
              "</style>\n",
              "<table border=\"1\" class=\"dataframe\">\n",
              "  <thead>\n",
              "    <tr style=\"text-align: right;\">\n",
              "      <th></th>\n",
              "      <th>year</th>\n",
              "      <th>month</th>\n",
              "      <th>day</th>\n",
              "      <th>week</th>\n",
              "      <th>temp_2</th>\n",
              "      <th>temp_1</th>\n",
              "      <th>average</th>\n",
              "      <th>actual</th>\n",
              "      <th>friend</th>\n",
              "    </tr>\n",
              "  </thead>\n",
              "  <tbody>\n",
              "    <tr>\n",
              "      <th>0</th>\n",
              "      <td>2016</td>\n",
              "      <td>1</td>\n",
              "      <td>1</td>\n",
              "      <td>Fri</td>\n",
              "      <td>45</td>\n",
              "      <td>45</td>\n",
              "      <td>45.6</td>\n",
              "      <td>45</td>\n",
              "      <td>29</td>\n",
              "    </tr>\n",
              "    <tr>\n",
              "      <th>1</th>\n",
              "      <td>2016</td>\n",
              "      <td>1</td>\n",
              "      <td>2</td>\n",
              "      <td>Sat</td>\n",
              "      <td>44</td>\n",
              "      <td>45</td>\n",
              "      <td>45.7</td>\n",
              "      <td>44</td>\n",
              "      <td>61</td>\n",
              "    </tr>\n",
              "    <tr>\n",
              "      <th>2</th>\n",
              "      <td>2016</td>\n",
              "      <td>1</td>\n",
              "      <td>3</td>\n",
              "      <td>Sun</td>\n",
              "      <td>45</td>\n",
              "      <td>44</td>\n",
              "      <td>45.8</td>\n",
              "      <td>41</td>\n",
              "      <td>56</td>\n",
              "    </tr>\n",
              "    <tr>\n",
              "      <th>3</th>\n",
              "      <td>2016</td>\n",
              "      <td>1</td>\n",
              "      <td>4</td>\n",
              "      <td>Mon</td>\n",
              "      <td>44</td>\n",
              "      <td>41</td>\n",
              "      <td>45.9</td>\n",
              "      <td>40</td>\n",
              "      <td>53</td>\n",
              "    </tr>\n",
              "    <tr>\n",
              "      <th>4</th>\n",
              "      <td>2016</td>\n",
              "      <td>1</td>\n",
              "      <td>5</td>\n",
              "      <td>Tues</td>\n",
              "      <td>41</td>\n",
              "      <td>40</td>\n",
              "      <td>46.0</td>\n",
              "      <td>44</td>\n",
              "      <td>41</td>\n",
              "    </tr>\n",
              "    <tr>\n",
              "      <th>...</th>\n",
              "      <td>...</td>\n",
              "      <td>...</td>\n",
              "      <td>...</td>\n",
              "      <td>...</td>\n",
              "      <td>...</td>\n",
              "      <td>...</td>\n",
              "      <td>...</td>\n",
              "      <td>...</td>\n",
              "      <td>...</td>\n",
              "    </tr>\n",
              "    <tr>\n",
              "      <th>343</th>\n",
              "      <td>2016</td>\n",
              "      <td>12</td>\n",
              "      <td>27</td>\n",
              "      <td>Tues</td>\n",
              "      <td>42</td>\n",
              "      <td>42</td>\n",
              "      <td>45.2</td>\n",
              "      <td>47</td>\n",
              "      <td>47</td>\n",
              "    </tr>\n",
              "    <tr>\n",
              "      <th>344</th>\n",
              "      <td>2016</td>\n",
              "      <td>12</td>\n",
              "      <td>28</td>\n",
              "      <td>Wed</td>\n",
              "      <td>42</td>\n",
              "      <td>47</td>\n",
              "      <td>45.3</td>\n",
              "      <td>48</td>\n",
              "      <td>58</td>\n",
              "    </tr>\n",
              "    <tr>\n",
              "      <th>345</th>\n",
              "      <td>2016</td>\n",
              "      <td>12</td>\n",
              "      <td>29</td>\n",
              "      <td>Thurs</td>\n",
              "      <td>47</td>\n",
              "      <td>48</td>\n",
              "      <td>45.3</td>\n",
              "      <td>48</td>\n",
              "      <td>65</td>\n",
              "    </tr>\n",
              "    <tr>\n",
              "      <th>346</th>\n",
              "      <td>2016</td>\n",
              "      <td>12</td>\n",
              "      <td>30</td>\n",
              "      <td>Fri</td>\n",
              "      <td>48</td>\n",
              "      <td>48</td>\n",
              "      <td>45.4</td>\n",
              "      <td>57</td>\n",
              "      <td>42</td>\n",
              "    </tr>\n",
              "    <tr>\n",
              "      <th>347</th>\n",
              "      <td>2016</td>\n",
              "      <td>12</td>\n",
              "      <td>31</td>\n",
              "      <td>Sat</td>\n",
              "      <td>48</td>\n",
              "      <td>57</td>\n",
              "      <td>45.5</td>\n",
              "      <td>40</td>\n",
              "      <td>57</td>\n",
              "    </tr>\n",
              "  </tbody>\n",
              "</table>\n",
              "<p>348 rows × 9 columns</p>\n",
              "</div>\n",
              "      <button class=\"colab-df-convert\" onclick=\"convertToInteractive('df-30b5fb58-53fd-456f-ab20-22af86633c29')\"\n",
              "              title=\"Convert this dataframe to an interactive table.\"\n",
              "              style=\"display:none;\">\n",
              "        \n",
              "  <svg xmlns=\"http://www.w3.org/2000/svg\" height=\"24px\"viewBox=\"0 0 24 24\"\n",
              "       width=\"24px\">\n",
              "    <path d=\"M0 0h24v24H0V0z\" fill=\"none\"/>\n",
              "    <path d=\"M18.56 5.44l.94 2.06.94-2.06 2.06-.94-2.06-.94-.94-2.06-.94 2.06-2.06.94zm-11 1L8.5 8.5l.94-2.06 2.06-.94-2.06-.94L8.5 2.5l-.94 2.06-2.06.94zm10 10l.94 2.06.94-2.06 2.06-.94-2.06-.94-.94-2.06-.94 2.06-2.06.94z\"/><path d=\"M17.41 7.96l-1.37-1.37c-.4-.4-.92-.59-1.43-.59-.52 0-1.04.2-1.43.59L10.3 9.45l-7.72 7.72c-.78.78-.78 2.05 0 2.83L4 21.41c.39.39.9.59 1.41.59.51 0 1.02-.2 1.41-.59l7.78-7.78 2.81-2.81c.8-.78.8-2.07 0-2.86zM5.41 20L4 18.59l7.72-7.72 1.47 1.35L5.41 20z\"/>\n",
              "  </svg>\n",
              "      </button>\n",
              "      \n",
              "  <style>\n",
              "    .colab-df-container {\n",
              "      display:flex;\n",
              "      flex-wrap:wrap;\n",
              "      gap: 12px;\n",
              "    }\n",
              "\n",
              "    .colab-df-convert {\n",
              "      background-color: #E8F0FE;\n",
              "      border: none;\n",
              "      border-radius: 50%;\n",
              "      cursor: pointer;\n",
              "      display: none;\n",
              "      fill: #1967D2;\n",
              "      height: 32px;\n",
              "      padding: 0 0 0 0;\n",
              "      width: 32px;\n",
              "    }\n",
              "\n",
              "    .colab-df-convert:hover {\n",
              "      background-color: #E2EBFA;\n",
              "      box-shadow: 0px 1px 2px rgba(60, 64, 67, 0.3), 0px 1px 3px 1px rgba(60, 64, 67, 0.15);\n",
              "      fill: #174EA6;\n",
              "    }\n",
              "\n",
              "    [theme=dark] .colab-df-convert {\n",
              "      background-color: #3B4455;\n",
              "      fill: #D2E3FC;\n",
              "    }\n",
              "\n",
              "    [theme=dark] .colab-df-convert:hover {\n",
              "      background-color: #434B5C;\n",
              "      box-shadow: 0px 1px 3px 1px rgba(0, 0, 0, 0.15);\n",
              "      filter: drop-shadow(0px 1px 2px rgba(0, 0, 0, 0.3));\n",
              "      fill: #FFFFFF;\n",
              "    }\n",
              "  </style>\n",
              "\n",
              "      <script>\n",
              "        const buttonEl =\n",
              "          document.querySelector('#df-30b5fb58-53fd-456f-ab20-22af86633c29 button.colab-df-convert');\n",
              "        buttonEl.style.display =\n",
              "          google.colab.kernel.accessAllowed ? 'block' : 'none';\n",
              "\n",
              "        async function convertToInteractive(key) {\n",
              "          const element = document.querySelector('#df-30b5fb58-53fd-456f-ab20-22af86633c29');\n",
              "          const dataTable =\n",
              "            await google.colab.kernel.invokeFunction('convertToInteractive',\n",
              "                                                     [key], {});\n",
              "          if (!dataTable) return;\n",
              "\n",
              "          const docLinkHtml = 'Like what you see? Visit the ' +\n",
              "            '<a target=\"_blank\" href=https://colab.research.google.com/notebooks/data_table.ipynb>data table notebook</a>'\n",
              "            + ' to learn more about interactive tables.';\n",
              "          element.innerHTML = '';\n",
              "          dataTable['output_type'] = 'display_data';\n",
              "          await google.colab.output.renderOutput(dataTable, element);\n",
              "          const docLink = document.createElement('div');\n",
              "          docLink.innerHTML = docLinkHtml;\n",
              "          element.appendChild(docLink);\n",
              "        }\n",
              "      </script>\n",
              "    </div>\n",
              "  </div>\n",
              "  "
            ]
          },
          "metadata": {},
          "execution_count": 14
        }
      ]
    },
    {
      "cell_type": "code",
      "metadata": {
        "id": "0qHTDK0Uy9Al",
        "colab": {
          "base_uri": "https://localhost:8080/"
        },
        "outputId": "822e79b1-e263-4058-da14-4b5f4f725c23"
      },
      "source": [
        "original_features.shape"
      ],
      "execution_count": null,
      "outputs": [
        {
          "output_type": "execute_result",
          "data": {
            "text/plain": [
              "(348, 7)"
            ]
          },
          "metadata": {},
          "execution_count": 5
        }
      ]
    },
    {
      "cell_type": "code",
      "metadata": {
        "id": "ik6scJWniP-z",
        "colab": {
          "base_uri": "https://localhost:8080/"
        },
        "outputId": "cc36410e-4818-425e-e593-141d8e4e20c1"
      },
      "source": [
        "# Import the model we are using\n",
        "from sklearn.ensemble import RandomForestRegressor\n",
        "from sklearn.metrics import r2_score\n",
        "\n",
        "# Instantiate model\n",
        "rf = RandomForestRegressor(n_estimators= 100, max_depth = 3, max_features='sqrt')\n",
        "\n",
        "# Train the model on training data\n",
        "rf.fit(original_train_features, original_train_labels);\n",
        "\n",
        "# Use the forest's predict method on the test data\n",
        "predictions = rf.predict(original_test_features)\n",
        "\n",
        "# # Calculate the absolute errors\n",
        "# errors = abs(predictions - original_test_labels)\n",
        "\n",
        "# # Print out the mean absolute error (mae)\n",
        "# print('MAE :', round(np.mean(errors), 2), 'degrees.')\n",
        "\n",
        "# Compare to baseline\n",
        "# improvement_baseline = 100 * abs(np.mean(errors) - np.mean(baseline_errors)) / np.mean(baseline_errors)\n",
        "# print('Improvement over baseline:', round(improvement_baseline, 2), '%.')\n",
        "\n",
        "#r2_score(baseline_preds, original_test_labels)\n",
        "r2_score(predictions, original_test_labels)"
      ],
      "execution_count": null,
      "outputs": [
        {
          "output_type": "execute_result",
          "data": {
            "text/plain": [
              "0.6414626520002147"
            ]
          },
          "metadata": {},
          "execution_count": 15
        }
      ]
    },
    {
      "cell_type": "code",
      "metadata": {
        "id": "STuw7_N80zYB",
        "colab": {
          "base_uri": "https://localhost:8080/"
        },
        "outputId": "38aac770-3841-4fe5-8ca3-96426d9c65cd"
      },
      "source": [
        "original_train_features.shape"
      ],
      "execution_count": null,
      "outputs": [
        {
          "output_type": "execute_result",
          "data": {
            "text/plain": [
              "(261, 7)"
            ]
          },
          "metadata": {},
          "execution_count": 7
        }
      ]
    },
    {
      "cell_type": "markdown",
      "metadata": {
        "id": "YV4HSU4WiaUQ"
      },
      "source": [
        "# Interpret Model Results"
      ]
    },
    {
      "cell_type": "code",
      "metadata": {
        "id": "kWAiLsut2MY3"
      },
      "source": [
        "from sklearn import tree"
      ],
      "execution_count": null,
      "outputs": []
    },
    {
      "cell_type": "code",
      "metadata": {
        "id": "B6vkYkK3icNP"
      },
      "source": [
        "from sklearn.tree import export_graphviz\n",
        "import pydot\n",
        "\n",
        "# Pull out one tree from the forest\n",
        "tree = rf.estimators_[5]\n",
        "\n",
        "# Export the image to a dot file\n",
        "export_graphviz(tree, out_file = 'tree.dot', feature_names = original_feature_list, rounded = True, precision = 1)\n",
        "\n",
        "# Use dot file to create a graph\n",
        "(graph, ) = pydot.graph_from_dot_file('tree.dot')\n",
        "\n",
        "# Write graph to a png file\n",
        "graph.write_png('tree.png');"
      ],
      "execution_count": null,
      "outputs": []
    },
    {
      "cell_type": "code",
      "metadata": {
        "id": "60tIEyPXi5IT",
        "colab": {
          "base_uri": "https://localhost:8080/"
        },
        "outputId": "a5a8b578-7b5d-4ed9-85a7-95f1654f8033"
      },
      "source": [
        "print('The depth of this tree is:', tree.tree_.max_depth)"
      ],
      "execution_count": null,
      "outputs": [
        {
          "output_type": "stream",
          "name": "stdout",
          "text": [
            "The depth of this tree is: 3\n"
          ]
        }
      ]
    },
    {
      "cell_type": "code",
      "metadata": {
        "id": "dh3wF-cTi7qt"
      },
      "source": [
        "# Limit depth of tree to 2 levels\n",
        "rf_small = RandomForestRegressor(n_estimators=10, max_depth = 3, random_state=42)\n",
        "rf_small.fit(original_train_features, original_train_labels)\n",
        "\n",
        "# Extract the small tree\n",
        "tree_small = rf_small.estimators_[5]\n",
        "\n",
        "# Save the tree as a png image\n",
        "export_graphviz(tree_small, out_file = 'small_tree.dot', feature_names = original_feature_list, rounded = True, precision = 1)\n",
        "\n",
        "(graph, ) = pydot.graph_from_dot_file('small_tree.dot')\n",
        "\n",
        "graph.write_png('small_tree.png');"
      ],
      "execution_count": null,
      "outputs": []
    },
    {
      "cell_type": "markdown",
      "metadata": {
        "id": "yhUtbce0jnO3"
      },
      "source": [
        "# Variable Importances"
      ]
    },
    {
      "cell_type": "code",
      "metadata": {
        "id": "hdbdpAXkjqHU",
        "colab": {
          "base_uri": "https://localhost:8080/"
        },
        "outputId": "af5ef02f-11a0-4f6c-e394-9d0b984030e4"
      },
      "source": [
        "\n",
        "# Get numerical feature importances\n",
        "importances = list(rf.feature_importances_)\n",
        "\n",
        "# List of tuples with variable and importance\n",
        "feature_importances = [(feature, round(importance, 2)) for feature, importance in zip(original_feature_list, importances)]\n",
        "\n",
        "# Sort the feature importances by most important first\n",
        "feature_importances = sorted(feature_importances, key = lambda x: x[1], reverse = True)\n",
        "\n",
        "# Print out the feature and importances\n",
        "[print('Variable: {:20} Importance: {}'.format(*pair)) for pair in feature_importances];\n"
      ],
      "execution_count": null,
      "outputs": [
        {
          "output_type": "stream",
          "name": "stdout",
          "text": [
            "Variable: temp_1               Importance: 0.4\n",
            "Variable: average              Importance: 0.27\n",
            "Variable: temp_2               Importance: 0.19\n",
            "Variable: month                Importance: 0.13\n",
            "Variable: day                  Importance: 0.01\n",
            "Variable: year                 Importance: 0.0\n",
            "Variable: week                 Importance: 0.0\n"
          ]
        }
      ]
    },
    {
      "cell_type": "markdown",
      "metadata": {
        "id": "fRoxVJqDj6gC"
      },
      "source": [
        "# Model with the 2 most important feature"
      ]
    },
    {
      "cell_type": "code",
      "source": [
        "original_train_features"
      ],
      "metadata": {
        "colab": {
          "base_uri": "https://localhost:8080/",
          "height": 424
        },
        "id": "rUzgWlczbLdN",
        "outputId": "fcea1ce1-0463-4e9c-d0e3-16905d850c68"
      },
      "execution_count": null,
      "outputs": [
        {
          "output_type": "execute_result",
          "data": {
            "text/plain": [
              "     year  month  day  week  temp_2  temp_1  average\n",
              "245  2016      9   19     2      68      69     69.7\n",
              "101  2016      4   14     5      60      59     58.1\n",
              "208  2016      7   30     7      85      88     77.3\n",
              "132  2016      5   15     1      82      65     64.7\n",
              "17   2016      1   18     2      54      50     47.5\n",
              "..    ...    ...  ...   ...     ...     ...      ...\n",
              "188  2016      7   10     1      74      71     75.1\n",
              "71   2016      3   15     3      54      49     53.6\n",
              "106  2016      4   19     3      77      89     59.0\n",
              "270  2016     10   14     6      66      60     60.2\n",
              "102  2016      4   15     6      59      59     58.3\n",
              "\n",
              "[261 rows x 7 columns]"
            ],
            "text/html": [
              "\n",
              "  <div id=\"df-81ecd984-af2a-413e-856d-6bb3d6312a7d\">\n",
              "    <div class=\"colab-df-container\">\n",
              "      <div>\n",
              "<style scoped>\n",
              "    .dataframe tbody tr th:only-of-type {\n",
              "        vertical-align: middle;\n",
              "    }\n",
              "\n",
              "    .dataframe tbody tr th {\n",
              "        vertical-align: top;\n",
              "    }\n",
              "\n",
              "    .dataframe thead th {\n",
              "        text-align: right;\n",
              "    }\n",
              "</style>\n",
              "<table border=\"1\" class=\"dataframe\">\n",
              "  <thead>\n",
              "    <tr style=\"text-align: right;\">\n",
              "      <th></th>\n",
              "      <th>year</th>\n",
              "      <th>month</th>\n",
              "      <th>day</th>\n",
              "      <th>week</th>\n",
              "      <th>temp_2</th>\n",
              "      <th>temp_1</th>\n",
              "      <th>average</th>\n",
              "    </tr>\n",
              "  </thead>\n",
              "  <tbody>\n",
              "    <tr>\n",
              "      <th>245</th>\n",
              "      <td>2016</td>\n",
              "      <td>9</td>\n",
              "      <td>19</td>\n",
              "      <td>2</td>\n",
              "      <td>68</td>\n",
              "      <td>69</td>\n",
              "      <td>69.7</td>\n",
              "    </tr>\n",
              "    <tr>\n",
              "      <th>101</th>\n",
              "      <td>2016</td>\n",
              "      <td>4</td>\n",
              "      <td>14</td>\n",
              "      <td>5</td>\n",
              "      <td>60</td>\n",
              "      <td>59</td>\n",
              "      <td>58.1</td>\n",
              "    </tr>\n",
              "    <tr>\n",
              "      <th>208</th>\n",
              "      <td>2016</td>\n",
              "      <td>7</td>\n",
              "      <td>30</td>\n",
              "      <td>7</td>\n",
              "      <td>85</td>\n",
              "      <td>88</td>\n",
              "      <td>77.3</td>\n",
              "    </tr>\n",
              "    <tr>\n",
              "      <th>132</th>\n",
              "      <td>2016</td>\n",
              "      <td>5</td>\n",
              "      <td>15</td>\n",
              "      <td>1</td>\n",
              "      <td>82</td>\n",
              "      <td>65</td>\n",
              "      <td>64.7</td>\n",
              "    </tr>\n",
              "    <tr>\n",
              "      <th>17</th>\n",
              "      <td>2016</td>\n",
              "      <td>1</td>\n",
              "      <td>18</td>\n",
              "      <td>2</td>\n",
              "      <td>54</td>\n",
              "      <td>50</td>\n",
              "      <td>47.5</td>\n",
              "    </tr>\n",
              "    <tr>\n",
              "      <th>...</th>\n",
              "      <td>...</td>\n",
              "      <td>...</td>\n",
              "      <td>...</td>\n",
              "      <td>...</td>\n",
              "      <td>...</td>\n",
              "      <td>...</td>\n",
              "      <td>...</td>\n",
              "    </tr>\n",
              "    <tr>\n",
              "      <th>188</th>\n",
              "      <td>2016</td>\n",
              "      <td>7</td>\n",
              "      <td>10</td>\n",
              "      <td>1</td>\n",
              "      <td>74</td>\n",
              "      <td>71</td>\n",
              "      <td>75.1</td>\n",
              "    </tr>\n",
              "    <tr>\n",
              "      <th>71</th>\n",
              "      <td>2016</td>\n",
              "      <td>3</td>\n",
              "      <td>15</td>\n",
              "      <td>3</td>\n",
              "      <td>54</td>\n",
              "      <td>49</td>\n",
              "      <td>53.6</td>\n",
              "    </tr>\n",
              "    <tr>\n",
              "      <th>106</th>\n",
              "      <td>2016</td>\n",
              "      <td>4</td>\n",
              "      <td>19</td>\n",
              "      <td>3</td>\n",
              "      <td>77</td>\n",
              "      <td>89</td>\n",
              "      <td>59.0</td>\n",
              "    </tr>\n",
              "    <tr>\n",
              "      <th>270</th>\n",
              "      <td>2016</td>\n",
              "      <td>10</td>\n",
              "      <td>14</td>\n",
              "      <td>6</td>\n",
              "      <td>66</td>\n",
              "      <td>60</td>\n",
              "      <td>60.2</td>\n",
              "    </tr>\n",
              "    <tr>\n",
              "      <th>102</th>\n",
              "      <td>2016</td>\n",
              "      <td>4</td>\n",
              "      <td>15</td>\n",
              "      <td>6</td>\n",
              "      <td>59</td>\n",
              "      <td>59</td>\n",
              "      <td>58.3</td>\n",
              "    </tr>\n",
              "  </tbody>\n",
              "</table>\n",
              "<p>261 rows × 7 columns</p>\n",
              "</div>\n",
              "      <button class=\"colab-df-convert\" onclick=\"convertToInteractive('df-81ecd984-af2a-413e-856d-6bb3d6312a7d')\"\n",
              "              title=\"Convert this dataframe to an interactive table.\"\n",
              "              style=\"display:none;\">\n",
              "        \n",
              "  <svg xmlns=\"http://www.w3.org/2000/svg\" height=\"24px\"viewBox=\"0 0 24 24\"\n",
              "       width=\"24px\">\n",
              "    <path d=\"M0 0h24v24H0V0z\" fill=\"none\"/>\n",
              "    <path d=\"M18.56 5.44l.94 2.06.94-2.06 2.06-.94-2.06-.94-.94-2.06-.94 2.06-2.06.94zm-11 1L8.5 8.5l.94-2.06 2.06-.94-2.06-.94L8.5 2.5l-.94 2.06-2.06.94zm10 10l.94 2.06.94-2.06 2.06-.94-2.06-.94-.94-2.06-.94 2.06-2.06.94z\"/><path d=\"M17.41 7.96l-1.37-1.37c-.4-.4-.92-.59-1.43-.59-.52 0-1.04.2-1.43.59L10.3 9.45l-7.72 7.72c-.78.78-.78 2.05 0 2.83L4 21.41c.39.39.9.59 1.41.59.51 0 1.02-.2 1.41-.59l7.78-7.78 2.81-2.81c.8-.78.8-2.07 0-2.86zM5.41 20L4 18.59l7.72-7.72 1.47 1.35L5.41 20z\"/>\n",
              "  </svg>\n",
              "      </button>\n",
              "      \n",
              "  <style>\n",
              "    .colab-df-container {\n",
              "      display:flex;\n",
              "      flex-wrap:wrap;\n",
              "      gap: 12px;\n",
              "    }\n",
              "\n",
              "    .colab-df-convert {\n",
              "      background-color: #E8F0FE;\n",
              "      border: none;\n",
              "      border-radius: 50%;\n",
              "      cursor: pointer;\n",
              "      display: none;\n",
              "      fill: #1967D2;\n",
              "      height: 32px;\n",
              "      padding: 0 0 0 0;\n",
              "      width: 32px;\n",
              "    }\n",
              "\n",
              "    .colab-df-convert:hover {\n",
              "      background-color: #E2EBFA;\n",
              "      box-shadow: 0px 1px 2px rgba(60, 64, 67, 0.3), 0px 1px 3px 1px rgba(60, 64, 67, 0.15);\n",
              "      fill: #174EA6;\n",
              "    }\n",
              "\n",
              "    [theme=dark] .colab-df-convert {\n",
              "      background-color: #3B4455;\n",
              "      fill: #D2E3FC;\n",
              "    }\n",
              "\n",
              "    [theme=dark] .colab-df-convert:hover {\n",
              "      background-color: #434B5C;\n",
              "      box-shadow: 0px 1px 3px 1px rgba(0, 0, 0, 0.15);\n",
              "      filter: drop-shadow(0px 1px 2px rgba(0, 0, 0, 0.3));\n",
              "      fill: #FFFFFF;\n",
              "    }\n",
              "  </style>\n",
              "\n",
              "      <script>\n",
              "        const buttonEl =\n",
              "          document.querySelector('#df-81ecd984-af2a-413e-856d-6bb3d6312a7d button.colab-df-convert');\n",
              "        buttonEl.style.display =\n",
              "          google.colab.kernel.accessAllowed ? 'block' : 'none';\n",
              "\n",
              "        async function convertToInteractive(key) {\n",
              "          const element = document.querySelector('#df-81ecd984-af2a-413e-856d-6bb3d6312a7d');\n",
              "          const dataTable =\n",
              "            await google.colab.kernel.invokeFunction('convertToInteractive',\n",
              "                                                     [key], {});\n",
              "          if (!dataTable) return;\n",
              "\n",
              "          const docLinkHtml = 'Like what you see? Visit the ' +\n",
              "            '<a target=\"_blank\" href=https://colab.research.google.com/notebooks/data_table.ipynb>data table notebook</a>'\n",
              "            + ' to learn more about interactive tables.';\n",
              "          element.innerHTML = '';\n",
              "          dataTable['output_type'] = 'display_data';\n",
              "          await google.colab.output.renderOutput(dataTable, element);\n",
              "          const docLink = document.createElement('div');\n",
              "          docLink.innerHTML = docLinkHtml;\n",
              "          element.appendChild(docLink);\n",
              "        }\n",
              "      </script>\n",
              "    </div>\n",
              "  </div>\n",
              "  "
            ]
          },
          "metadata": {},
          "execution_count": 13
        }
      ]
    },
    {
      "cell_type": "code",
      "metadata": {
        "id": "0DbrjWloj-yW",
        "colab": {
          "base_uri": "https://localhost:8080/"
        },
        "outputId": "9de82c1f-244f-4b95-d6b9-a30ed5bc995c"
      },
      "source": [
        "\n",
        "# New random forest with only the two most important variables\n",
        "rf_most_important = RandomForestRegressor(n_estimators= 100, max_depth = 2, max_features='auto')\n",
        "\n",
        "# Extract the two most important features\n",
        "important_indices = ['temp_1','average']\n",
        "train_important = original_train_features.loc[:, important_indices]\n",
        "test_important = original_test_features.loc[:, important_indices]\n",
        "\n",
        "# Train the random forest\n",
        "rf_most_important.fit(train_important, original_train_labels)\n",
        "\n",
        "# Make predictions and determine the error\n",
        "predictions = rf_most_important.predict(test_important)\n",
        "\n",
        "errors = abs(predictions - original_test_labels)\n",
        "\n",
        "# Display the performance metrics\n",
        "print('Mean Absolute Error:', round(np.mean(errors), 2), 'degrees.')\n",
        "\n",
        "r2_score(predictions, original_test_labels)"
      ],
      "execution_count": null,
      "outputs": [
        {
          "output_type": "stream",
          "name": "stdout",
          "text": [
            "Mean Absolute Error: 3.95 degrees.\n"
          ]
        },
        {
          "output_type": "execute_result",
          "data": {
            "text/plain": [
              "0.7211881095392354"
            ]
          },
          "metadata": {},
          "execution_count": 19
        }
      ]
    },
    {
      "cell_type": "markdown",
      "metadata": {
        "id": "69TgRljQwpwj"
      },
      "source": [
        "# XG Boost"
      ]
    },
    {
      "cell_type": "code",
      "source": [
        "x_train = original_train_features\n",
        "y_train = original_train_labels\n",
        "x_test = original_test_features\n",
        "y_test = original_test_labels\n",
        "x_train"
      ],
      "metadata": {
        "id": "HAUBwi-ZubRF",
        "colab": {
          "base_uri": "https://localhost:8080/",
          "height": 424
        },
        "outputId": "cca22d8a-1f65-4923-8b35-cdcd928cd751"
      },
      "execution_count": null,
      "outputs": [
        {
          "output_type": "execute_result",
          "data": {
            "text/plain": [
              "     year  month  day  week  temp_2  temp_1  average\n",
              "245  2016      9   19     2      68      69     69.7\n",
              "101  2016      4   14     5      60      59     58.1\n",
              "208  2016      7   30     7      85      88     77.3\n",
              "132  2016      5   15     1      82      65     64.7\n",
              "17   2016      1   18     2      54      50     47.5\n",
              "..    ...    ...  ...   ...     ...     ...      ...\n",
              "188  2016      7   10     1      74      71     75.1\n",
              "71   2016      3   15     3      54      49     53.6\n",
              "106  2016      4   19     3      77      89     59.0\n",
              "270  2016     10   14     6      66      60     60.2\n",
              "102  2016      4   15     6      59      59     58.3\n",
              "\n",
              "[261 rows x 7 columns]"
            ],
            "text/html": [
              "\n",
              "  <div id=\"df-a6eae26e-fe16-44a0-89e7-6491af120e3a\">\n",
              "    <div class=\"colab-df-container\">\n",
              "      <div>\n",
              "<style scoped>\n",
              "    .dataframe tbody tr th:only-of-type {\n",
              "        vertical-align: middle;\n",
              "    }\n",
              "\n",
              "    .dataframe tbody tr th {\n",
              "        vertical-align: top;\n",
              "    }\n",
              "\n",
              "    .dataframe thead th {\n",
              "        text-align: right;\n",
              "    }\n",
              "</style>\n",
              "<table border=\"1\" class=\"dataframe\">\n",
              "  <thead>\n",
              "    <tr style=\"text-align: right;\">\n",
              "      <th></th>\n",
              "      <th>year</th>\n",
              "      <th>month</th>\n",
              "      <th>day</th>\n",
              "      <th>week</th>\n",
              "      <th>temp_2</th>\n",
              "      <th>temp_1</th>\n",
              "      <th>average</th>\n",
              "    </tr>\n",
              "  </thead>\n",
              "  <tbody>\n",
              "    <tr>\n",
              "      <th>245</th>\n",
              "      <td>2016</td>\n",
              "      <td>9</td>\n",
              "      <td>19</td>\n",
              "      <td>2</td>\n",
              "      <td>68</td>\n",
              "      <td>69</td>\n",
              "      <td>69.7</td>\n",
              "    </tr>\n",
              "    <tr>\n",
              "      <th>101</th>\n",
              "      <td>2016</td>\n",
              "      <td>4</td>\n",
              "      <td>14</td>\n",
              "      <td>5</td>\n",
              "      <td>60</td>\n",
              "      <td>59</td>\n",
              "      <td>58.1</td>\n",
              "    </tr>\n",
              "    <tr>\n",
              "      <th>208</th>\n",
              "      <td>2016</td>\n",
              "      <td>7</td>\n",
              "      <td>30</td>\n",
              "      <td>7</td>\n",
              "      <td>85</td>\n",
              "      <td>88</td>\n",
              "      <td>77.3</td>\n",
              "    </tr>\n",
              "    <tr>\n",
              "      <th>132</th>\n",
              "      <td>2016</td>\n",
              "      <td>5</td>\n",
              "      <td>15</td>\n",
              "      <td>1</td>\n",
              "      <td>82</td>\n",
              "      <td>65</td>\n",
              "      <td>64.7</td>\n",
              "    </tr>\n",
              "    <tr>\n",
              "      <th>17</th>\n",
              "      <td>2016</td>\n",
              "      <td>1</td>\n",
              "      <td>18</td>\n",
              "      <td>2</td>\n",
              "      <td>54</td>\n",
              "      <td>50</td>\n",
              "      <td>47.5</td>\n",
              "    </tr>\n",
              "    <tr>\n",
              "      <th>...</th>\n",
              "      <td>...</td>\n",
              "      <td>...</td>\n",
              "      <td>...</td>\n",
              "      <td>...</td>\n",
              "      <td>...</td>\n",
              "      <td>...</td>\n",
              "      <td>...</td>\n",
              "    </tr>\n",
              "    <tr>\n",
              "      <th>188</th>\n",
              "      <td>2016</td>\n",
              "      <td>7</td>\n",
              "      <td>10</td>\n",
              "      <td>1</td>\n",
              "      <td>74</td>\n",
              "      <td>71</td>\n",
              "      <td>75.1</td>\n",
              "    </tr>\n",
              "    <tr>\n",
              "      <th>71</th>\n",
              "      <td>2016</td>\n",
              "      <td>3</td>\n",
              "      <td>15</td>\n",
              "      <td>3</td>\n",
              "      <td>54</td>\n",
              "      <td>49</td>\n",
              "      <td>53.6</td>\n",
              "    </tr>\n",
              "    <tr>\n",
              "      <th>106</th>\n",
              "      <td>2016</td>\n",
              "      <td>4</td>\n",
              "      <td>19</td>\n",
              "      <td>3</td>\n",
              "      <td>77</td>\n",
              "      <td>89</td>\n",
              "      <td>59.0</td>\n",
              "    </tr>\n",
              "    <tr>\n",
              "      <th>270</th>\n",
              "      <td>2016</td>\n",
              "      <td>10</td>\n",
              "      <td>14</td>\n",
              "      <td>6</td>\n",
              "      <td>66</td>\n",
              "      <td>60</td>\n",
              "      <td>60.2</td>\n",
              "    </tr>\n",
              "    <tr>\n",
              "      <th>102</th>\n",
              "      <td>2016</td>\n",
              "      <td>4</td>\n",
              "      <td>15</td>\n",
              "      <td>6</td>\n",
              "      <td>59</td>\n",
              "      <td>59</td>\n",
              "      <td>58.3</td>\n",
              "    </tr>\n",
              "  </tbody>\n",
              "</table>\n",
              "<p>261 rows × 7 columns</p>\n",
              "</div>\n",
              "      <button class=\"colab-df-convert\" onclick=\"convertToInteractive('df-a6eae26e-fe16-44a0-89e7-6491af120e3a')\"\n",
              "              title=\"Convert this dataframe to an interactive table.\"\n",
              "              style=\"display:none;\">\n",
              "        \n",
              "  <svg xmlns=\"http://www.w3.org/2000/svg\" height=\"24px\"viewBox=\"0 0 24 24\"\n",
              "       width=\"24px\">\n",
              "    <path d=\"M0 0h24v24H0V0z\" fill=\"none\"/>\n",
              "    <path d=\"M18.56 5.44l.94 2.06.94-2.06 2.06-.94-2.06-.94-.94-2.06-.94 2.06-2.06.94zm-11 1L8.5 8.5l.94-2.06 2.06-.94-2.06-.94L8.5 2.5l-.94 2.06-2.06.94zm10 10l.94 2.06.94-2.06 2.06-.94-2.06-.94-.94-2.06-.94 2.06-2.06.94z\"/><path d=\"M17.41 7.96l-1.37-1.37c-.4-.4-.92-.59-1.43-.59-.52 0-1.04.2-1.43.59L10.3 9.45l-7.72 7.72c-.78.78-.78 2.05 0 2.83L4 21.41c.39.39.9.59 1.41.59.51 0 1.02-.2 1.41-.59l7.78-7.78 2.81-2.81c.8-.78.8-2.07 0-2.86zM5.41 20L4 18.59l7.72-7.72 1.47 1.35L5.41 20z\"/>\n",
              "  </svg>\n",
              "      </button>\n",
              "      \n",
              "  <style>\n",
              "    .colab-df-container {\n",
              "      display:flex;\n",
              "      flex-wrap:wrap;\n",
              "      gap: 12px;\n",
              "    }\n",
              "\n",
              "    .colab-df-convert {\n",
              "      background-color: #E8F0FE;\n",
              "      border: none;\n",
              "      border-radius: 50%;\n",
              "      cursor: pointer;\n",
              "      display: none;\n",
              "      fill: #1967D2;\n",
              "      height: 32px;\n",
              "      padding: 0 0 0 0;\n",
              "      width: 32px;\n",
              "    }\n",
              "\n",
              "    .colab-df-convert:hover {\n",
              "      background-color: #E2EBFA;\n",
              "      box-shadow: 0px 1px 2px rgba(60, 64, 67, 0.3), 0px 1px 3px 1px rgba(60, 64, 67, 0.15);\n",
              "      fill: #174EA6;\n",
              "    }\n",
              "\n",
              "    [theme=dark] .colab-df-convert {\n",
              "      background-color: #3B4455;\n",
              "      fill: #D2E3FC;\n",
              "    }\n",
              "\n",
              "    [theme=dark] .colab-df-convert:hover {\n",
              "      background-color: #434B5C;\n",
              "      box-shadow: 0px 1px 3px 1px rgba(0, 0, 0, 0.15);\n",
              "      filter: drop-shadow(0px 1px 2px rgba(0, 0, 0, 0.3));\n",
              "      fill: #FFFFFF;\n",
              "    }\n",
              "  </style>\n",
              "\n",
              "      <script>\n",
              "        const buttonEl =\n",
              "          document.querySelector('#df-a6eae26e-fe16-44a0-89e7-6491af120e3a button.colab-df-convert');\n",
              "        buttonEl.style.display =\n",
              "          google.colab.kernel.accessAllowed ? 'block' : 'none';\n",
              "\n",
              "        async function convertToInteractive(key) {\n",
              "          const element = document.querySelector('#df-a6eae26e-fe16-44a0-89e7-6491af120e3a');\n",
              "          const dataTable =\n",
              "            await google.colab.kernel.invokeFunction('convertToInteractive',\n",
              "                                                     [key], {});\n",
              "          if (!dataTable) return;\n",
              "\n",
              "          const docLinkHtml = 'Like what you see? Visit the ' +\n",
              "            '<a target=\"_blank\" href=https://colab.research.google.com/notebooks/data_table.ipynb>data table notebook</a>'\n",
              "            + ' to learn more about interactive tables.';\n",
              "          element.innerHTML = '';\n",
              "          dataTable['output_type'] = 'display_data';\n",
              "          await google.colab.output.renderOutput(dataTable, element);\n",
              "          const docLink = document.createElement('div');\n",
              "          docLink.innerHTML = docLinkHtml;\n",
              "          element.appendChild(docLink);\n",
              "        }\n",
              "      </script>\n",
              "    </div>\n",
              "  </div>\n",
              "  "
            ]
          },
          "metadata": {},
          "execution_count": 19
        }
      ]
    },
    {
      "cell_type": "code",
      "source": [
        "import warnings\n",
        "warnings.filterwarnings('ignore')"
      ],
      "metadata": {
        "id": "Vf_NLJYSWXH0"
      },
      "execution_count": null,
      "outputs": []
    },
    {
      "cell_type": "code",
      "metadata": {
        "id": "pvg6zsMFii6K",
        "colab": {
          "base_uri": "https://localhost:8080/"
        },
        "outputId": "3ddbbf9d-eb2b-45dd-b7ba-87f63232d90e"
      },
      "source": [
        "import xgboost as xgb\n",
        "from sklearn.model_selection import cross_val_score\n",
        "import numpy as np\n",
        "for lr in [0.01,0.02,0.03,0.04,0.05,0.06,0.07,0.08,0.09,0.1,0.11,0.12,0.13,0.14,0.15,0.2,0.5,0.7,1]:\n",
        "  model = xgb.XGBRegressor(learning_rate = lr, n_estimators=100, verbosity = 0) # initialise the model\n",
        "  model.fit(x_train,y_train) #train the model\n",
        "  model.score(x_test, y_test) # scoring the model - r2 squared\n",
        "  print(\"Learning rate : \", lr, \" Train score : \", model.score(x_train,y_train), \" Cross-Val score : \", np.mean(cross_val_score(model, x_train, y_train, cv=10)))"
      ],
      "execution_count": null,
      "outputs": [
        {
          "output_type": "stream",
          "name": "stdout",
          "text": [
            "Learning rate :  0.01  Train score :  0.8477831611250641  Cross-Val score :  0.8407451404927044\n",
            "Learning rate :  0.02  Train score :  0.9798388156093064  Cross-Val score :  0.9788867240593916\n",
            "Learning rate :  0.03  Train score :  0.9973841493925657  Cross-Val score :  0.9972579954426533\n",
            "Learning rate :  0.04  Train score :  0.9996676619028624  Cross-Val score :  0.9996512949073033\n",
            "Learning rate :  0.05  Train score :  0.9999586747071572  Cross-Val score :  0.9999565960995195\n",
            "Learning rate :  0.06  Train score :  0.9999949736675605  Cross-Val score :  0.9999947152439752\n",
            "Learning rate :  0.07  Train score :  0.9999994023220357  Cross-Val score :  0.9999993708800599\n",
            "Learning rate :  0.08  Train score :  0.9999999306459296  Cross-Val score :  0.9999999267261103\n",
            "Learning rate :  0.09  Train score :  0.9999999906812247  Cross-Val score :  0.9999999882607191\n",
            "Learning rate :  0.1  Train score :  0.9999999902059086  Cross-Val score :  0.9999999896863023\n",
            "Learning rate :  0.11  Train score :  0.9999999911846799  Cross-Val score :  0.9999999907725193\n",
            "Learning rate :  0.12  Train score :  0.9999999913312638  Cross-Val score :  0.9999999909539314\n",
            "Learning rate :  0.13  Train score :  0.999999991315025  Cross-Val score :  0.999999990957593\n",
            "Learning rate :  0.14  Train score :  0.9999999917105407  Cross-Val score :  0.9999999912778522\n",
            "Learning rate :  0.15  Train score :  0.9999999928008481  Cross-Val score :  0.9999999896125112\n",
            "Learning rate :  0.2  Train score :  0.9999999920060079  Cross-Val score :  0.9999999916189687\n",
            "Learning rate :  0.5  Train score :  0.999999995728502  Cross-Val score :  0.9999999955122686\n",
            "Learning rate :  0.7  Train score :  0.9999999948456086  Cross-Val score :  0.9999999945541378\n",
            "Learning rate :  1  Train score :  0.9999999993074967  Cross-Val score :  0.9999999989047564\n"
          ]
        }
      ]
    },
    {
      "cell_type": "code",
      "source": [
        "model = xgb.XGBRegressor(learning_rate = 0.05, n_estimators=100)\n",
        "model.fit(x_train,y_train) #train the model\n",
        "model.score(x_test, y_test) # scoring the model - r2 squared"
      ],
      "metadata": {
        "id": "k_04iH3AxNwX",
        "colab": {
          "base_uri": "https://localhost:8080/"
        },
        "outputId": "780a8b3f-42b9-4b5b-c8db-0fb9fc2513d3"
      },
      "execution_count": null,
      "outputs": [
        {
          "output_type": "stream",
          "name": "stdout",
          "text": [
            "[06:53:10] WARNING: /workspace/src/objective/regression_obj.cu:152: reg:linear is now deprecated in favor of reg:squarederror.\n"
          ]
        },
        {
          "output_type": "execute_result",
          "data": {
            "text/plain": [
              "0.8155634432801947"
            ]
          },
          "metadata": {},
          "execution_count": 22
        }
      ]
    },
    {
      "cell_type": "code",
      "source": [
        "from sklearn.ensemble import VotingRegressor # this is the function that ensembles my model\n",
        "from sklearn.linear_model import LinearRegression\n",
        "from sklearn import tree\n",
        "from sklearn.neighbors import KNeighborsRegressor\n",
        "\n",
        "model1 = LinearRegression()\n",
        "model2 = tree.DecisionTreeRegressor(random_state=1)\n",
        "model3 = KNeighborsRegressor(3)\n",
        "model = VotingRegressor(estimators=[('lr', model1), ('dt', model2),('knn',model3)]) # it will stitich all the models together, voting = hard means max voting\n",
        "# we need to give the list of models that we are trying to combine\n",
        "model.fit(x_train,y_train)\n",
        "model.score(x_test,y_test)"
      ],
      "metadata": {
        "colab": {
          "base_uri": "https://localhost:8080/"
        },
        "id": "XVHoI5MnYYJu",
        "outputId": "fa956018-3585-4347-ac7a-2c21de1bb97a"
      },
      "execution_count": null,
      "outputs": [
        {
          "output_type": "execute_result",
          "data": {
            "text/plain": [
              "0.8177167884928702"
            ]
          },
          "metadata": {},
          "execution_count": 33
        }
      ]
    }
  ]
}